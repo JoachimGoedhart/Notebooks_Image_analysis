{
 "cells": [
  {
   "cell_type": "markdown",
   "id": "1dcf605b",
   "metadata": {},
   "source": [
    "# Spectral mixing and unmixing in fluorescence microscopy"
   ]
  },
  {
   "cell_type": "markdown",
   "id": "51ac2989",
   "metadata": {},
   "source": [
    "In fluorescence microscopy, different fluorescent probes can be used to label different structures or proteins. Since the excitation and emission spectra of the probes are relatively broad, there can be considerable mixing of the signals The mixing of the emitted signals is generally indicated as 'crosstalk' or 'bleed-through'. The most popular strategy to avoid mixing is to optimize the combination of probes in such a way that spectral overlap is minimized. This poses several restrictions on the number of probes and their emission spectrum. Another way to deal with mixing is to correct for it by 'spectral unmixing' [(doi:10.1016/S0014-5793(03)00521-0)](https://doi.org/10.1016/S0014-5793(03)00521-0). This is readily achieved when (i) the number of detection channels is equal or higher than the number of probes and (ii) the emission profile of the individual probes is available (either from measurements or a theoretical calculation). Below the mixing and unmixing of the emission signals is demonstrated."
   ]
  },
  {
   "cell_type": "markdown",
   "id": "16a547ad",
   "metadata": {},
   "source": [
    "First, the necessary libraries are loaded:"
   ]
  },
  {
   "cell_type": "code",
   "execution_count": 2,
   "id": "3a0c0a86",
   "metadata": {},
   "outputs": [],
   "source": [
    "import skimage\n",
    "import matplotlib.pyplot as plt\n",
    "import numpy as np\n"
   ]
  },
  {
   "cell_type": "markdown",
   "id": "0b640413",
   "metadata": {},
   "source": [
    "Check and change working dir:"
   ]
  },
  {
   "cell_type": "code",
   "execution_count": 3,
   "id": "0bb06c59",
   "metadata": {},
   "outputs": [
    {
     "data": {
      "text/plain": [
       "'/Users/joachimgoedhart/surfdrive/Python/Image_analysis'"
      ]
     },
     "execution_count": 3,
     "metadata": {},
     "output_type": "execute_result"
    }
   ],
   "source": [
    "%pwd"
   ]
  },
  {
   "cell_type": "code",
   "execution_count": 4,
   "id": "cefe482c",
   "metadata": {},
   "outputs": [
    {
     "name": "stdout",
     "output_type": "stream",
     "text": [
      "/Users/joachimgoedhart/surfdrive/Python/Image_analysis/Synthetic_data\n"
     ]
    }
   ],
   "source": [
    "%cd Synthetic_data"
   ]
  },
  {
   "cell_type": "markdown",
   "id": "8e898895",
   "metadata": {},
   "source": [
    "## 1. Overdetermined systems (channels > probes)\n",
    "In case we have more spectral changgels than fluorescent probes, we have an 'overdetermined' system [(doi:10.1016/S0014-5793(03)00521-0)](https://doi.org/10.1016/S0014-5793(03)00521-0). Below, we illustrate the case where we have two probes and 8 emission channels.\n",
    "\n",
    "We load a synthetic image with the two objects (reflecting two emission colors). In each image, a different object is visible at a unique location. The images reflect the distribution of the object and correspond to the pure signal emitted by the object."
   ]
  },
  {
   "cell_type": "code",
   "execution_count": 4,
   "id": "d4dcf984",
   "metadata": {},
   "outputs": [],
   "source": [
    "im_raw = skimage.io.imread(\"Synthetic-2obj.tif\")"
   ]
  },
  {
   "cell_type": "markdown",
   "id": "1f40d52f",
   "metadata": {},
   "source": [
    "Let's look at the dimensions:"
   ]
  },
  {
   "cell_type": "code",
   "execution_count": 5,
   "id": "65769be0",
   "metadata": {},
   "outputs": [
    {
     "data": {
      "text/plain": [
       "(2, 256, 256)"
      ]
     },
     "execution_count": 5,
     "metadata": {},
     "output_type": "execute_result"
    }
   ],
   "source": [
    "im_raw.shape"
   ]
  },
  {
   "cell_type": "markdown",
   "id": "bae4ed94",
   "metadata": {},
   "source": [
    "From the dimensions, we can infer that the image stack consists of 2 images that each are 256x256 pixels. To show the first image of the stack (python counts from zero):"
   ]
  },
  {
   "cell_type": "code",
   "execution_count": 6,
   "id": "986bc28b",
   "metadata": {},
   "outputs": [
    {
     "data": {
      "text/plain": [
       "<matplotlib.image.AxesImage at 0x1248ca350>"
      ]
     },
     "execution_count": 6,
     "metadata": {},
     "output_type": "execute_result"
    },
    {
     "data": {
      "image/png": "[encoded data removed]",
      "text/plain": [
       "<Figure size 432x288 with 1 Axes>"
      ]
     },
     "metadata": {
      "needs_background": "light"
     },
     "output_type": "display_data"
    }
   ],
   "source": [
    "plt.imshow(im_raw[0])"
   ]
  },
  {
   "cell_type": "markdown",
   "id": "bbb5c958",
   "metadata": {},
   "source": [
    "### 1.1 Mix"
   ]
  },
  {
   "cell_type": "markdown",
   "id": "c5b8a548",
   "metadata": {},
   "source": [
    "Let's plot the two images of the stack:"
   ]
  },
  {
   "cell_type": "code",
   "execution_count": 7,
   "id": "dab82251",
   "metadata": {},
   "outputs": [
    {
     "data": {
      "image/png": "[encoded data removed]",
      "text/plain": [
       "<Figure size 432x288 with 2 Axes>"
      ]
     },
     "metadata": {
      "needs_background": "light"
     },
     "output_type": "display_data"
    }
   ],
   "source": [
    "\n",
    "for i in range(2):\n",
    "    plt.subplot(1,2,i+1)\n",
    "    plt.imshow(im_raw[i])\n",
    "    plt.axis('off')\n",
    "plt.show()\n"
   ]
  },
  {
   "cell_type": "markdown",
   "id": "9df31126",
   "metadata": {},
   "source": [
    "These two objects represent two structures, labeled with two different probes that have a unique emission profile. The spectral profile is defined in a matrix and we add this information by multiplying the images with a mixing matrix. \n",
    "In this matrix (mix), the column reflects the emission of an object in the 8 channels. The sum of each column is normalized to 1."
   ]
  },
  {
   "cell_type": "code",
   "execution_count": 8,
   "id": "82d86ec5",
   "metadata": {},
   "outputs": [],
   "source": [
    "mix = np.array(\n",
    "    [[0.05, 0.],\n",
    "     [0.50, 0.05],\n",
    "     [0.25, 0.6],\n",
    "     [0.15, 0.15],\n",
    "     [0.05, 0.1],\n",
    "     [0,    0.05],\n",
    "     [0,    0.03],\n",
    "     [0,    0.02]\n",
    "    ])"
   ]
  },
  {
   "cell_type": "markdown",
   "id": "a14e18b7",
   "metadata": {},
   "source": [
    "Just a check whether this matrix is correctly assigned:"
   ]
  },
  {
   "cell_type": "code",
   "execution_count": 9,
   "id": "563bd633",
   "metadata": {},
   "outputs": [
    {
     "data": {
      "text/plain": [
       "array([[0.05, 0.  ],\n",
       "       [0.5 , 0.05],\n",
       "       [0.25, 0.6 ],\n",
       "       [0.15, 0.15],\n",
       "       [0.05, 0.1 ],\n",
       "       [0.  , 0.05],\n",
       "       [0.  , 0.03],\n",
       "       [0.  , 0.02]])"
      ]
     },
     "execution_count": 9,
     "metadata": {},
     "output_type": "execute_result"
    }
   ],
   "source": [
    "mix"
   ]
  },
  {
   "cell_type": "markdown",
   "id": "5cc8f99c",
   "metadata": {},
   "source": [
    "Let's mix the synthetic image with the mixing matrix:"
   ]
  },
  {
   "cell_type": "code",
   "execution_count": 10,
   "id": "bd5b22a1",
   "metadata": {},
   "outputs": [],
   "source": [
    "mixed = np.einsum('ji,ikl->jkl', mix, im_raw)"
   ]
  },
  {
   "cell_type": "markdown",
   "id": "c1f8ec8f",
   "metadata": {},
   "source": [
    "Checking the shape of the new array:"
   ]
  },
  {
   "cell_type": "code",
   "execution_count": 11,
   "id": "020c73ec",
   "metadata": {},
   "outputs": [
    {
     "data": {
      "text/plain": [
       "(8, 256, 256)"
      ]
     },
     "execution_count": 11,
     "metadata": {},
     "output_type": "execute_result"
    }
   ],
   "source": [
    "mixed.shape"
   ]
  },
  {
   "cell_type": "markdown",
   "id": "489f09ef",
   "metadata": {},
   "source": [
    "The resulting data, shows the distribution of the fluorescence over 8 channels. Let's plot the result:"
   ]
  },
  {
   "cell_type": "code",
   "execution_count": 12,
   "id": "980657dc",
   "metadata": {},
   "outputs": [
    {
     "data": {
      "image/png": "[encoded data removed]",
      "text/plain": [
       "<Figure size 864x864 with 8 Axes>"
      ]
     },
     "metadata": {
      "needs_background": "light"
     },
     "output_type": "display_data"
    }
   ],
   "source": [
    "plt.figure(figsize=(12,12))\n",
    "for i in range(8):\n",
    "    plt.subplot(1,8,i+1)\n",
    "    plt.imshow(mixed[i], vmin=0, vmax=128)\n",
    "    plt.axis('off')\n",
    "plt.show()"
   ]
  },
  {
   "cell_type": "markdown",
   "id": "bdd61a7a",
   "metadata": {},
   "source": [
    "The signal is now distributed over multiple channels. The maximal signal of the square object is in channel 2 and that of the round object in channel 3.\n",
    "This distribution of the signal corresponds with the mixing matrix (mix)."
   ]
  },
  {
   "cell_type": "markdown",
   "id": "01d9cd39",
   "metadata": {},
   "source": [
    "The resulting stack is a realistic set of images acquired from objects that emit at different wavelengths. When we know (and here we do!) the mixing matrix, we can use that to _unmix_ the data and show the distribution of the pure components."
   ]
  },
  {
   "cell_type": "markdown",
   "id": "3bb89cd6",
   "metadata": {},
   "source": [
    "### 1.2 Unmix"
   ]
  },
  {
   "cell_type": "markdown",
   "id": "65c830f5",
   "metadata": {},
   "source": [
    "We have an _overdetermined_ system, with more channels than objects. The mixing matrix is not square, so we cannot simply invert the mixing matrix. We use the equation in Novo et al. (2013), [DOI: 10.1002/cyto.a.22272](https://dx.doi.org/10.1002/cyto.a.22272) to arrive at an umixing matrix:\n",
    "\n",
    "(M<sup>T</sup>M)<sup>-1</sup>M<sup>T</sup>"
   ]
  },
  {
   "cell_type": "markdown",
   "id": "aaef8f8b",
   "metadata": {},
   "source": [
    "The transposed matrix M<sup>T</sup> is calculated like this:"
   ]
  },
  {
   "cell_type": "code",
   "execution_count": 13,
   "id": "863380de",
   "metadata": {},
   "outputs": [],
   "source": [
    "t_mix = np.einsum('ij->ji', mix)"
   ]
  },
  {
   "cell_type": "markdown",
   "id": "c89633ec",
   "metadata": {},
   "source": [
    "Now, we can calculate the unmixing matrix according to (M<sup>T</sup>M)<sup>-1</sup>M<sup>T</sup>:"
   ]
  },
  {
   "cell_type": "code",
   "execution_count": 14,
   "id": "3e0471da",
   "metadata": {},
   "outputs": [],
   "source": [
    "inv_mix = np.matmul(np.linalg.inv(np.matmul(t_mix,mix)), t_mix)"
   ]
  },
  {
   "cell_type": "markdown",
   "id": "7a0aeb56",
   "metadata": {},
   "source": [
    "Let's inspect the unmixing matrix:"
   ]
  },
  {
   "cell_type": "code",
   "execution_count": 15,
   "id": "33f25a88",
   "metadata": {},
   "outputs": [
    {
     "data": {
      "text/plain": [
       "array([[ 0.210814  ,  2.00109425, -0.23047869,  0.31130482, -0.00327745,\n",
       "        -0.10704572, -0.06422743, -0.04281829],\n",
       "       [-0.10704572, -0.89072614,  1.62154447,  0.2180561 ,  0.25241646,\n",
       "         0.17973109,  0.10783865,  0.07189244]])"
      ]
     },
     "execution_count": 15,
     "metadata": {},
     "output_type": "execute_result"
    }
   ],
   "source": [
    "inv_mix"
   ]
  },
  {
   "cell_type": "code",
   "execution_count": 16,
   "id": "33a2fa07",
   "metadata": {},
   "outputs": [
    {
     "data": {
      "text/plain": [
       "(2, 8)"
      ]
     },
     "execution_count": 16,
     "metadata": {},
     "output_type": "execute_result"
    }
   ],
   "source": [
    "inv_mix.shape"
   ]
  },
  {
   "cell_type": "markdown",
   "id": "7688d14b",
   "metadata": {},
   "source": [
    "When the mixing matrix and its inverse M<sup>-1</sup> are multiplied an identity matrix is the result. Let's check that:"
   ]
  },
  {
   "cell_type": "code",
   "execution_count": 17,
   "id": "866733ca",
   "metadata": {},
   "outputs": [
    {
     "data": {
      "text/plain": [
       "array([[1.00000000e+00, 3.05198095e-16],\n",
       "       [2.05744911e-16, 1.00000000e+00]])"
      ]
     },
     "execution_count": 17,
     "metadata": {},
     "output_type": "execute_result"
    }
   ],
   "source": [
    "np.dot(inv_mix,mix)"
   ]
  },
  {
   "cell_type": "markdown",
   "id": "b4c57b1f",
   "metadata": {},
   "source": [
    "Let's now use the unmixing matrix. To this end, the unmixing matrix will be multiplied with the (8 channel) image stack (this calculation is similar to the calculation that was used to generate the mixed stack):"
   ]
  },
  {
   "cell_type": "code",
   "execution_count": 18,
   "id": "c0694881",
   "metadata": {},
   "outputs": [],
   "source": [
    "unmixed = np.einsum('ji,ikl->jkl', inv_mix, mixed)"
   ]
  },
  {
   "cell_type": "code",
   "execution_count": 19,
   "id": "0be1fc39",
   "metadata": {},
   "outputs": [
    {
     "data": {
      "text/plain": [
       "(2, 256, 256)"
      ]
     },
     "execution_count": 19,
     "metadata": {},
     "output_type": "execute_result"
    }
   ],
   "source": [
    "unmixed.shape"
   ]
  },
  {
   "cell_type": "code",
   "execution_count": 20,
   "id": "b14110f2",
   "metadata": {},
   "outputs": [
    {
     "data": {
      "text/plain": [
       "dtype('float64')"
      ]
     },
     "execution_count": 20,
     "metadata": {},
     "output_type": "execute_result"
    }
   ],
   "source": [
    "unmixed.dtype"
   ]
  },
  {
   "cell_type": "code",
   "execution_count": 21,
   "id": "11b9c09d",
   "metadata": {},
   "outputs": [
    {
     "data": {
      "image/png": "[encoded data removed]",
      "text/plain": [
       "<Figure size 432x288 with 2 Axes>"
      ]
     },
     "metadata": {
      "needs_background": "light"
     },
     "output_type": "display_data"
    }
   ],
   "source": [
    "for i in range(2):\n",
    "    plt.subplot(1,2,i+1)\n",
    "    plt.imshow(unmixed[i])\n",
    "    plt.axis('off')\n",
    "plt.show()"
   ]
  },
  {
   "cell_type": "markdown",
   "id": "d57404ad",
   "metadata": {},
   "source": [
    "And we're back to square one. From the 8-channel image stack, we have determined the distribution of the pure components. This example is an ideal case with no noise, no background, and strong signals. In experimental images these other conbrutions will interfere with the unmixing and complicate the isolation of pure signals. "
   ]
  },
  {
   "cell_type": "markdown",
   "id": "fa1146d9",
   "metadata": {},
   "source": [
    "## 2. Determined systems (channels = probes)\n",
    "In case we have the same number of spectral changgels and fluorescent probes, we have a 'determined' system [(doi:10.1016/S0014-5793(03)00521-0)](https://doi.org/10.1016/S0014-5793(03)00521-0). Below, we illustrate the case where we have 4 probes and 4 emission channels."
   ]
  },
  {
   "cell_type": "markdown",
   "id": "211a44bd",
   "metadata": {},
   "source": [
    "Below, we load a synthetic image with four slices. Each slice is a square object at a different location. This square object reflects the distribution and intensity of the pure component."
   ]
  },
  {
   "cell_type": "code",
   "execution_count": 22,
   "id": "825cb09c",
   "metadata": {},
   "outputs": [],
   "source": [
    "im_raw = skimage.io.imread(\"Synthetic-4obj.tif\")"
   ]
  },
  {
   "cell_type": "markdown",
   "id": "95a1b2a4",
   "metadata": {},
   "source": [
    "Let's look at the dimensions:"
   ]
  },
  {
   "cell_type": "code",
   "execution_count": 23,
   "id": "e5d77af8",
   "metadata": {},
   "outputs": [
    {
     "data": {
      "text/plain": [
       "(256, 256, 4)"
      ]
     },
     "execution_count": 23,
     "metadata": {},
     "output_type": "execute_result"
    }
   ],
   "source": [
    "im_raw.shape"
   ]
  },
  {
   "cell_type": "markdown",
   "id": "38630fbb",
   "metadata": {},
   "source": [
    "The image stack consists of 4 channels that each are 256x256 pixels. To show the first image of the stack (python counts from zero):"
   ]
  },
  {
   "cell_type": "code",
   "execution_count": 24,
   "id": "53550ce8",
   "metadata": {},
   "outputs": [
    {
     "data": {
      "text/plain": [
       "<matplotlib.image.AxesImage at 0x124d9b2b0>"
      ]
     },
     "execution_count": 24,
     "metadata": {},
     "output_type": "execute_result"
    },
    {
     "data": {
      "image/png": "[encoded data removed]",
      "text/plain": [
       "<Figure size 432x288 with 1 Axes>"
      ]
     },
     "metadata": {
      "needs_background": "light"
     },
     "output_type": "display_data"
    }
   ],
   "source": [
    "plt.imshow(im_raw[:,:,0])"
   ]
  },
  {
   "cell_type": "markdown",
   "id": "ca31cb8e",
   "metadata": {},
   "source": [
    "The order of the dimensions can be changed. Below, we move the channel (originally the third dimensions) to the first (zero) position:"
   ]
  },
  {
   "cell_type": "code",
   "execution_count": 25,
   "id": "d6f38c05",
   "metadata": {},
   "outputs": [],
   "source": [
    "im_raw_t = np.transpose(im_raw, (2, 0, 1))"
   ]
  },
  {
   "cell_type": "code",
   "execution_count": 26,
   "id": "c7383c89",
   "metadata": {},
   "outputs": [
    {
     "data": {
      "text/plain": [
       "(4, 256, 256)"
      ]
     },
     "execution_count": 26,
     "metadata": {},
     "output_type": "execute_result"
    }
   ],
   "source": [
    "im_raw_t.shape"
   ]
  },
  {
   "cell_type": "code",
   "execution_count": null,
   "id": "75431297",
   "metadata": {},
   "outputs": [],
   "source": []
  },
  {
   "cell_type": "markdown",
   "id": "77207f07",
   "metadata": {},
   "source": [
    "### 2.1 Mix"
   ]
  },
  {
   "cell_type": "markdown",
   "id": "c15450e4",
   "metadata": {},
   "source": [
    "Let's plot all four images of the stack, showing the four objects:"
   ]
  },
  {
   "cell_type": "code",
   "execution_count": 27,
   "id": "1f26b1be",
   "metadata": {},
   "outputs": [
    {
     "data": {
      "image/png": "[encoded data removed]",
      "text/plain": [
       "<Figure size 864x864 with 4 Axes>"
      ]
     },
     "metadata": {
      "needs_background": "light"
     },
     "output_type": "display_data"
    }
   ],
   "source": [
    "plt.figure(figsize=(12,12))\n",
    "for i in range(4):\n",
    "    plt.subplot(1,4,i+1)\n",
    "    plt.imshow(im_raw_t[i])\n",
    "    plt.axis('off')\n",
    "plt.show()"
   ]
  },
  {
   "cell_type": "markdown",
   "id": "e4ad0bcc",
   "metadata": {},
   "source": [
    "It is clear that each image/channel has a unique shape at a different location. These objects represent the pure components with a unique emission profile. In fluorescence imaging, there is often bleed-through between the channels. Here, we will add the bleed-through by multiplying the images with a mixing matrix. This mixing matrix is also artificial, but it recapitulates some aspects of fluorescence. It has a single peak and a tail at higher wavelengths.\n",
    "The mixing matrix defines how the objects emission spreads over the different channels. In this matrix (mix), the column reflects the emission of an object in the four channels. The sum of each column is normalized to 1."
   ]
  },
  {
   "cell_type": "code",
   "execution_count": 28,
   "id": "bc2be98b",
   "metadata": {},
   "outputs": [],
   "source": [
    "mix = np.array(\n",
    "    [[.50, 0.0, 0.0, 0.0],\n",
    "     [.25, 0.6, 0.1, 0.0],\n",
    "     [.25, 0.2, 0.7, 0.1],\n",
    "     [.00, 0.1, 0.2, 0.9]\n",
    "    ])"
   ]
  },
  {
   "cell_type": "markdown",
   "id": "45581a9d",
   "metadata": {},
   "source": [
    "Let's mix the synthetic image with the mixing matrix to get a realistic four channel stack of images. Here we use the 'np.einsum' function for matrix calculations. This is a bit of a complicated notation and this is because we are multiplying a 2D mixing matrix with 3D image data. The j and i specify the rows and columns of the mixing matrix and the ikl define the three dimensions of the image data and define that the channels of the image data need to be mixed by the mixing matrix."
   ]
  },
  {
   "cell_type": "code",
   "execution_count": 29,
   "id": "c7661d08",
   "metadata": {},
   "outputs": [],
   "source": [
    "mixed = np.einsum('ji,ikl->jkl', mix, im_raw_t)"
   ]
  },
  {
   "cell_type": "markdown",
   "id": "9933607c",
   "metadata": {},
   "source": [
    "Checking the shape of the new array:"
   ]
  },
  {
   "cell_type": "code",
   "execution_count": 30,
   "id": "c724a76c",
   "metadata": {},
   "outputs": [
    {
     "data": {
      "text/plain": [
       "(4, 256, 256)"
      ]
     },
     "execution_count": 30,
     "metadata": {},
     "output_type": "execute_result"
    }
   ],
   "source": [
    "mixed.shape"
   ]
  },
  {
   "cell_type": "markdown",
   "id": "37e2c283",
   "metadata": {},
   "source": [
    "The new image stack has the same dimension as the original data and that is correct. Let's plot the result:"
   ]
  },
  {
   "cell_type": "code",
   "execution_count": 31,
   "id": "7ebba5c2",
   "metadata": {},
   "outputs": [
    {
     "data": {
      "image/png": "[encoded data removed]",
      "text/plain": [
       "<Figure size 864x864 with 4 Axes>"
      ]
     },
     "metadata": {
      "needs_background": "light"
     },
     "output_type": "display_data"
    }
   ],
   "source": [
    "plt.figure(figsize=(12,12))\n",
    "for i in range(4):\n",
    "    plt.subplot(1,4,i+1)\n",
    "    plt.imshow(mixed[i], vmin=0, vmax=128)\n",
    "    plt.axis('off')\n",
    "plt.show()"
   ]
  },
  {
   "cell_type": "markdown",
   "id": "4708385b",
   "metadata": {},
   "source": [
    "It is clear that the objects now show a signal in multiple channels. For instance, the square in the upper left corner is has the strongest signal in the first image, but is also visible (with half of the signal) in the 2nd and 3rd channel. This distribution of the signal was defined in the mixing matrix (mix).\n",
    "\n",
    "The resulting stack is a realistic set of images acquired from objects that emit at different wavelengths. When we know (and here we do!) the mixing matrix, we can use that to _unmix_ the data and calculate the distribution of the pure components."
   ]
  },
  {
   "cell_type": "markdown",
   "id": "75274c49",
   "metadata": {},
   "source": [
    "### 2.2 Unmix"
   ]
  },
  {
   "cell_type": "markdown",
   "id": "2bda6e09",
   "metadata": {},
   "source": [
    "First, we need to calculate the inverted form of the mixing matrix:"
   ]
  },
  {
   "cell_type": "code",
   "execution_count": 32,
   "id": "e638ff9f",
   "metadata": {},
   "outputs": [
    {
     "data": {
      "text/plain": [
       "array([[ 2.        ,  0.        ,  0.        ,  0.        ],\n",
       "       [-0.74498567,  1.747851  , -0.25787966,  0.0286533 ],\n",
       "       [-0.53008596, -0.48710602,  1.54727794, -0.17191977],\n",
       "       [ 0.20057307, -0.08595989, -0.31518625,  1.14613181]])"
      ]
     },
     "execution_count": 32,
     "metadata": {},
     "output_type": "execute_result"
    }
   ],
   "source": [
    "inv_mix = np.linalg.inv(mix)\n",
    "inv_mix"
   ]
  },
  {
   "cell_type": "code",
   "execution_count": 33,
   "id": "77b04f4a",
   "metadata": {},
   "outputs": [
    {
     "data": {
      "text/plain": [
       "dtype('float64')"
      ]
     },
     "execution_count": 33,
     "metadata": {},
     "output_type": "execute_result"
    }
   ],
   "source": [
    "inv_mix.dtype"
   ]
  },
  {
   "cell_type": "markdown",
   "id": "0a63376f",
   "metadata": {},
   "source": [
    "When the mixing matrix and its inverse are multiplied the identity matrix is the result:"
   ]
  },
  {
   "cell_type": "code",
   "execution_count": 34,
   "id": "da8a7f4d",
   "metadata": {},
   "outputs": [
    {
     "data": {
      "text/plain": [
       "array([[ 1.00000000e+00,  0.00000000e+00,  0.00000000e+00,\n",
       "         0.00000000e+00],\n",
       "       [ 2.77555756e-17,  1.00000000e+00,  2.33899377e-17,\n",
       "        -1.79238191e-18],\n",
       "       [-5.55111512e-17, -6.50546156e-18,  1.00000000e+00,\n",
       "         2.94893050e-17],\n",
       "       [ 1.38777878e-17,  6.36230960e-18,  1.27246192e-17,\n",
       "         1.00000000e+00]])"
      ]
     },
     "execution_count": 34,
     "metadata": {},
     "output_type": "execute_result"
    }
   ],
   "source": [
    "np.dot(inv_mix,mix)"
   ]
  },
  {
   "cell_type": "markdown",
   "id": "a53554d1",
   "metadata": {},
   "source": [
    "Let's now apply this to unmixing. The image stack will be multiplied with the inverted matrix in the same way that we generated the mixed data. So the notation for the einsum function is the same:"
   ]
  },
  {
   "cell_type": "code",
   "execution_count": 35,
   "id": "e3379454",
   "metadata": {},
   "outputs": [],
   "source": [
    "unmixed = np.einsum('ji,ikl->jkl', inv_mix, mixed)"
   ]
  },
  {
   "cell_type": "code",
   "execution_count": 36,
   "id": "58c01cdd",
   "metadata": {},
   "outputs": [
    {
     "data": {
      "text/plain": [
       "(4, 256, 256)"
      ]
     },
     "execution_count": 36,
     "metadata": {},
     "output_type": "execute_result"
    }
   ],
   "source": [
    "unmixed.shape"
   ]
  },
  {
   "cell_type": "code",
   "execution_count": 37,
   "id": "76444cf1",
   "metadata": {},
   "outputs": [
    {
     "data": {
      "image/png": "[encoded data removed]",
      "text/plain": [
       "<Figure size 864x864 with 4 Axes>"
      ]
     },
     "metadata": {
      "needs_background": "light"
     },
     "output_type": "display_data"
    }
   ],
   "source": [
    "plt.figure(figsize=(12,12))\n",
    "for i in range(4):\n",
    "    plt.subplot(1,4,i+1)\n",
    "    plt.imshow(unmixed[i])\n",
    "    plt.axis('off')\n",
    "plt.show()"
   ]
  },
  {
   "cell_type": "markdown",
   "id": "ca1fb139",
   "metadata": {},
   "source": [
    "That's it. We have unmixed the stack and we have isolated the pure components."
   ]
  },
  {
   "cell_type": "markdown",
   "id": "ff909ca5",
   "metadata": {},
   "source": [
    "## 3. Time-lapse imaging of a determined system"
   ]
  },
  {
   "cell_type": "markdown",
   "id": "85be50fa",
   "metadata": {},
   "source": [
    "When objects are imaged at different timepoints, this adds another dimension to the data. In other words, time is added to the spatial and spectral dimensions. The principle of mixing and unmixing remains exactly the same, but the data is larger and more complex."
   ]
  },
  {
   "cell_type": "markdown",
   "id": "2ca0f207",
   "metadata": {},
   "source": [
    "First, we load a synthetic dataset in which four object change location over time:"
   ]
  },
  {
   "cell_type": "code",
   "execution_count": 5,
   "id": "fee8552b",
   "metadata": {},
   "outputs": [],
   "source": [
    "im_raw = skimage.io.imread(\"4obj_time.tif\")"
   ]
  },
  {
   "cell_type": "markdown",
   "id": "3a65ab99",
   "metadata": {},
   "source": [
    "Let's check the shape:"
   ]
  },
  {
   "cell_type": "code",
   "execution_count": 6,
   "id": "0e42864b",
   "metadata": {},
   "outputs": [
    {
     "data": {
      "text/plain": [
       "(60, 256, 256, 4)"
      ]
     },
     "execution_count": 6,
     "metadata": {},
     "output_type": "execute_result"
    }
   ],
   "source": [
    "im_raw.shape"
   ]
  },
  {
   "cell_type": "markdown",
   "id": "aa451e07",
   "metadata": {},
   "source": [
    "There are 60 timepoints with 256x256 images and 4 objects. Let's look at the 10th timepoint for the first object:"
   ]
  },
  {
   "cell_type": "code",
   "execution_count": 7,
   "id": "3c86d397",
   "metadata": {},
   "outputs": [
    {
     "data": {
      "text/plain": [
       "<matplotlib.image.AxesImage at 0x120fea5e0>"
      ]
     },
     "execution_count": 7,
     "metadata": {},
     "output_type": "execute_result"
    },
    {
     "data": {
      "image/png": "[encoded data removed]",
      "text/plain": [
       "<Figure size 432x288 with 1 Axes>"
      ]
     },
     "metadata": {
      "needs_background": "light"
     },
     "output_type": "display_data"
    }
   ],
   "source": [
    "plt.imshow(im_raw[9,:,:,0])"
   ]
  },
  {
   "cell_type": "markdown",
   "id": "90564a9d",
   "metadata": {},
   "source": [
    "To keep the data and the processing compatible with the previous code, I change the order of the dimensions so that the channel/object data comes first and time as last:"
   ]
  },
  {
   "cell_type": "code",
   "execution_count": 8,
   "id": "321633a4",
   "metadata": {},
   "outputs": [],
   "source": [
    "im_raw_t = np.transpose(im_raw, (3, 1, 2, 0))"
   ]
  },
  {
   "cell_type": "code",
   "execution_count": 9,
   "id": "30a66dde",
   "metadata": {},
   "outputs": [
    {
     "data": {
      "text/plain": [
       "(4, 256, 256, 60)"
      ]
     },
     "execution_count": 9,
     "metadata": {},
     "output_type": "execute_result"
    }
   ],
   "source": [
    "im_raw_t.shape"
   ]
  },
  {
   "cell_type": "markdown",
   "id": "0e029429",
   "metadata": {},
   "source": [
    "Let's plot a subset of these data. Specifically, timepoint 42:"
   ]
  },
  {
   "cell_type": "code",
   "execution_count": 10,
   "id": "5fdbdf98",
   "metadata": {},
   "outputs": [
    {
     "data": {
      "image/png": "[encoded data removed]",
      "text/plain": [
       "<Figure size 864x864 with 4 Axes>"
      ]
     },
     "metadata": {
      "needs_background": "light"
     },
     "output_type": "display_data"
    }
   ],
   "source": [
    "plt.figure(figsize=(12,12))\n",
    "for i in range(4):\n",
    "    plt.subplot(1,4,i+1)\n",
    "    plt.imshow(im_raw_t[i,:,:,42])\n",
    "    plt.axis('off')\n",
    "plt.show()"
   ]
  },
  {
   "cell_type": "markdown",
   "id": "f6e031ee",
   "metadata": {},
   "source": [
    "### 3.1 Mix"
   ]
  },
  {
   "cell_type": "markdown",
   "id": "d8783f61",
   "metadata": {},
   "source": [
    "Let's mix the timelapse data with the mixing matrix. We'll use exactly the same matrix as in 2.1. Let's see if this matrix is still correctly defined:"
   ]
  },
  {
   "cell_type": "code",
   "execution_count": 44,
   "id": "f24fe769",
   "metadata": {},
   "outputs": [
    {
     "data": {
      "text/plain": [
       "array([[0.5 , 0.  , 0.  , 0.  ],\n",
       "       [0.25, 0.6 , 0.1 , 0.  ],\n",
       "       [0.25, 0.2 , 0.7 , 0.1 ],\n",
       "       [0.  , 0.1 , 0.2 , 0.9 ]])"
      ]
     },
     "execution_count": 44,
     "metadata": {},
     "output_type": "execute_result"
    }
   ],
   "source": [
    "mix"
   ]
  },
  {
   "cell_type": "markdown",
   "id": "60a5da76",
   "metadata": {},
   "source": [
    "Now, we will mix the 2D matrix with a 4D dataset. Since added a dimension to the matrix, we can add that to the einsum function as well:"
   ]
  },
  {
   "cell_type": "code",
   "execution_count": 45,
   "id": "e2045a88",
   "metadata": {},
   "outputs": [],
   "source": [
    "mixed = np.einsum('ji,iklm->jklm', mix, im_raw_t)"
   ]
  },
  {
   "cell_type": "markdown",
   "id": "604b6d86",
   "metadata": {},
   "source": [
    "Note that we can also write the higher dimension in the einsum function with ellipsis. This is particularly helpful if there are additional dimensions on top of time (for instance z, or anythin else):"
   ]
  },
  {
   "cell_type": "code",
   "execution_count": 46,
   "id": "27944bb3",
   "metadata": {},
   "outputs": [],
   "source": [
    "mixed = np.einsum('ji,ikl...->jkl...', mix, im_raw_t)"
   ]
  },
  {
   "cell_type": "code",
   "execution_count": 47,
   "id": "0ec981f7",
   "metadata": {},
   "outputs": [
    {
     "data": {
      "text/plain": [
       "(4, 256, 256, 60)"
      ]
     },
     "execution_count": 47,
     "metadata": {},
     "output_type": "execute_result"
    }
   ],
   "source": [
    "mixed.shape"
   ]
  },
  {
   "cell_type": "markdown",
   "id": "19a48fcb",
   "metadata": {},
   "source": [
    "The shape is as expected. Now let's look again at the data of timepoint 42:"
   ]
  },
  {
   "cell_type": "code",
   "execution_count": 48,
   "id": "3eb9a70a",
   "metadata": {},
   "outputs": [
    {
     "data": {
      "image/png": "[encoded data removed]",
      "text/plain": [
       "<Figure size 864x864 with 4 Axes>"
      ]
     },
     "metadata": {
      "needs_background": "light"
     },
     "output_type": "display_data"
    }
   ],
   "source": [
    "plt.figure(figsize=(12,12))\n",
    "for i in range(4):\n",
    "    plt.subplot(1,4,i+1)\n",
    "    plt.imshow(mixed[i,:,:,42])\n",
    "    plt.axis('off')\n",
    "plt.show()"
   ]
  },
  {
   "cell_type": "markdown",
   "id": "bd999dae",
   "metadata": {},
   "source": [
    "Clearly, the signals are mixed and overlapping. Let's save this mixed timelapse data, but first we transpose the data:"
   ]
  },
  {
   "cell_type": "code",
   "execution_count": 49,
   "id": "c80c7cdb",
   "metadata": {},
   "outputs": [
    {
     "data": {
      "text/plain": [
       "(60, 256, 256, 4)"
      ]
     },
     "execution_count": 49,
     "metadata": {},
     "output_type": "execute_result"
    }
   ],
   "source": [
    "mixed_t = np.transpose(mixed, (3, 1, 2, 0))\n",
    "mixed_t.shape"
   ]
  },
  {
   "cell_type": "markdown",
   "id": "1f4db44a",
   "metadata": {},
   "source": [
    "The einsum function can also be used to change the order of the dimensions and it may in fact be a bit more intuitive:"
   ]
  },
  {
   "cell_type": "code",
   "execution_count": 50,
   "id": "6e7ce89b",
   "metadata": {},
   "outputs": [
    {
     "data": {
      "text/plain": [
       "(60, 256, 256, 4)"
      ]
     },
     "execution_count": 50,
     "metadata": {},
     "output_type": "execute_result"
    }
   ],
   "source": [
    "mixed_t = np.einsum('ijkl->ljki', mixed)\n",
    "mixed_t.shape"
   ]
  },
  {
   "cell_type": "markdown",
   "id": "394e6d69",
   "metadata": {},
   "source": [
    "In this shape, the tif file can be opened as a hyperstack in FIJI/ImageJ"
   ]
  },
  {
   "cell_type": "code",
   "execution_count": 51,
   "id": "163740ed",
   "metadata": {},
   "outputs": [],
   "source": [
    "# To save the mixed image stack (~125 Mb) uncomment:\n",
    "# skimage.io.imsave('mixed_4obj_time.tif', mixed_t)"
   ]
  },
  {
   "cell_type": "markdown",
   "id": "7966b945",
   "metadata": {},
   "source": [
    "### 3.2 Unmix"
   ]
  },
  {
   "cell_type": "markdown",
   "id": "91d487df",
   "metadata": {},
   "source": [
    "The unmixing with the inverted matrix (that we calculated in 2.2) is straightforward:"
   ]
  },
  {
   "cell_type": "code",
   "execution_count": 52,
   "id": "b06a3da8",
   "metadata": {},
   "outputs": [],
   "source": [
    "unmixed = np.einsum('ji,ikl...->jkl...', inv_mix, mixed)"
   ]
  },
  {
   "cell_type": "code",
   "execution_count": 53,
   "id": "e9419cba",
   "metadata": {},
   "outputs": [
    {
     "data": {
      "text/plain": [
       "(4, 256, 256, 60)"
      ]
     },
     "execution_count": 53,
     "metadata": {},
     "output_type": "execute_result"
    }
   ],
   "source": [
    "unmixed.shape"
   ]
  },
  {
   "cell_type": "code",
   "execution_count": 54,
   "id": "22439319",
   "metadata": {},
   "outputs": [
    {
     "data": {
      "image/png": "[encoded data removed]",
      "text/plain": [
       "<Figure size 864x864 with 4 Axes>"
      ]
     },
     "metadata": {
      "needs_background": "light"
     },
     "output_type": "display_data"
    }
   ],
   "source": [
    "plt.figure(figsize=(12,12))\n",
    "for i in range(4):\n",
    "    plt.subplot(1,4,i+1)\n",
    "    plt.imshow(unmixed[i,:,:,42])\n",
    "    plt.axis('off')\n",
    "plt.show()"
   ]
  },
  {
   "cell_type": "code",
   "execution_count": null,
   "id": "bd099931",
   "metadata": {},
   "outputs": [],
   "source": []
  }
 ],
 "metadata": {
  "kernelspec": {
   "display_name": "Python 3 (ipykernel)",
   "language": "python",
   "name": "python3"
  },
  "language_info": {
   "codemirror_mode": {
    "name": "ipython",
    "version": 3
   },
   "file_extension": ".py",
   "mimetype": "text/x-python",
   "name": "python",
   "nbconvert_exporter": "python",
   "pygments_lexer": "ipython3",
   "version": "3.8.13"
  }
 },
 "nbformat": 4,
 "nbformat_minor": 5
}
